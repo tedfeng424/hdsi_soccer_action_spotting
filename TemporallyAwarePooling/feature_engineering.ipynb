{
 "cells": [
  {
   "cell_type": "code",
   "execution_count": 2,
   "id": "00b1e176-a599-4338-b768-9e31e49d5b41",
   "metadata": {},
   "outputs": [],
   "source": [
    "import torch\n",
    "#import clip\n",
    "from PIL import Image\n",
    "import os\n",
    "import numpy as np\n",
    "import pandas as pd\n",
    "import json\n",
    "import cv2\n",
    "import streamlit as st\n",
    "import tempfile"
   ]
  },
  {
   "cell_type": "code",
   "execution_count": 8,
   "id": "19f9c604-46f8-4c31-bab6-dae10623820e",
   "metadata": {
    "tags": []
   },
   "outputs": [
    {
     "data": {
      "text/plain": [
       "'./PaddleDetection/france_ligue-1/2016-2017_2016-08-12 - 21-00 Bastia 0 - 1 Paris SG_1_720p_5069.jpg'"
      ]
     },
     "execution_count": 8,
     "metadata": {},
     "output_type": "execute_result"
    }
   ],
   "source": [
    "path = './PaddleDetection/france_ligue-1/'\n",
    "tmp = path+os.listdir(path)[0]\n",
    "tmp"
   ]
  },
  {
   "cell_type": "code",
   "execution_count": 5,
   "id": "c3b1a31a-0043-4e59-af73-33d99837da45",
   "metadata": {},
   "outputs": [
    {
     "name": "stdout",
     "output_type": "stream",
     "text": [
      "Label probs: [[0.631   0.247   0.12225]]\n"
     ]
    }
   ],
   "source": [
    "device = \"cuda\" if torch.cuda.is_available() else \"cpu\"\n",
    "model, preprocess = clip.load(\"ViT-B/32\", device=device)\n",
    "\n",
    "image = preprocess(Image.open(tmp)).unsqueeze(0).to(device)\n",
    "\n",
    "\n",
    "with torch.no_grad():\n",
    "    image_features = model.encode_image(image)\n",
    "    \n",
    "    logits_per_image, logits_per_text = model(image, text)\n",
    "    probs = logits_per_image.softmax(dim=-1).cpu().numpy()\n",
    "\n",
    "print(\"Label probs:\", probs)  # prints: [[0.9927937  0.00421068 0.00299572]]"
   ]
  },
  {
   "cell_type": "code",
   "execution_count": 8,
   "id": "6d3fe75f-53b0-4ceb-a141-205e33fb022c",
   "metadata": {
    "tags": []
   },
   "outputs": [
    {
     "data": {
      "text/plain": [
       "torch.Tensor"
      ]
     },
     "execution_count": 8,
     "metadata": {},
     "output_type": "execute_result"
    }
   ],
   "source": [
    "type(image_features)"
   ]
  },
  {
   "cell_type": "code",
   "execution_count": 10,
   "id": "2dd1957f-3805-4fef-a780-096a9cc29620",
   "metadata": {
    "tags": []
   },
   "outputs": [
    {
     "data": {
      "text/plain": [
       "['RN50',\n",
       " 'RN101',\n",
       " 'RN50x4',\n",
       " 'RN50x16',\n",
       " 'RN50x64',\n",
       " 'ViT-B/32',\n",
       " 'ViT-B/16',\n",
       " 'ViT-L/14',\n",
       " 'ViT-L/14@336px']"
      ]
     },
     "execution_count": 10,
     "metadata": {},
     "output_type": "execute_result"
    }
   ],
   "source": [
    "clip.available_models()\n"
   ]
  },
  {
   "cell_type": "code",
   "execution_count": 16,
   "id": "7d22b6fa-5065-46e3-9e37-b63c8fc0379d",
   "metadata": {
    "tags": []
   },
   "outputs": [],
   "source": [
    "image_features = image_features.cpu().detach().numpy()\n",
    "\n",
    "np.save('test_feat.npy', image_features)"
   ]
  },
  {
   "cell_type": "code",
   "execution_count": 5,
   "id": "a443f790-2ad3-4241-94b8-64bc1a9a2e31",
   "metadata": {
    "tags": []
   },
   "outputs": [
    {
     "data": {
      "text/plain": [
       "581318"
      ]
     },
     "execution_count": 5,
     "metadata": {},
     "output_type": "execute_result"
    }
   ],
   "source": [
    "len(os.listdir(path))"
   ]
  },
  {
   "cell_type": "code",
   "execution_count": 14,
   "id": "eb72b0f5-88fb-417a-aeb9-1048efc868c3",
   "metadata": {},
   "outputs": [
    {
     "data": {
      "text/plain": [
       "296294"
      ]
     },
     "execution_count": 14,
     "metadata": {},
     "output_type": "execute_result"
    }
   ],
   "source": [
    "path2 = './clip_features/'\n",
    "len(os.listdir(path2))"
   ]
  },
  {
   "cell_type": "code",
   "execution_count": 15,
   "id": "ee6a0a47-279e-4bc1-aa57-f3a18905ddbf",
   "metadata": {},
   "outputs": [
    {
     "data": {
      "text/plain": [
       "'feat_2014-2015_2015-04-05 - 22-00 Marseille 2 - 3 Paris SG_1_720p_1.jpg.npy'"
      ]
     },
     "execution_count": 15,
     "metadata": {},
     "output_type": "execute_result"
    }
   ],
   "source": [
    "test_name = sorted(os.listdir(path2))[0]\n",
    "test_name"
   ]
  },
  {
   "cell_type": "code",
   "execution_count": 16,
   "id": "c20204db-c7a4-478b-88c9-31a1e140af33",
   "metadata": {},
   "outputs": [],
   "source": [
    "test = np.load(os.path.join(path2, sorted(os.listdir(path2))[0]))"
   ]
  },
  {
   "cell_type": "code",
   "execution_count": 17,
   "id": "b80bbf16-e533-4c1f-ad21-f0ed9b2fc104",
   "metadata": {},
   "outputs": [
    {
     "data": {
      "text/plain": [
       "59"
      ]
     },
     "execution_count": 17,
     "metadata": {},
     "output_type": "execute_result"
    }
   ],
   "source": [
    "test_name.index('1_720p')"
   ]
  },
  {
   "cell_type": "code",
   "execution_count": 18,
   "id": "660b04f2-99b5-4e88-8018-f0269633aacd",
   "metadata": {},
   "outputs": [
    {
     "data": {
      "text/plain": [
       "'feat_2014-2015_2015-04-05 - 22-00 Marseille 2 - 3 Paris SG_1_720p'"
      ]
     },
     "execution_count": 18,
     "metadata": {},
     "output_type": "execute_result"
    }
   ],
   "source": [
    "test_name[:test_name.index('720p')+4]"
   ]
  },
  {
   "cell_type": "code",
   "execution_count": 19,
   "id": "07be93dc-62af-4500-a879-28c52175e804",
   "metadata": {},
   "outputs": [],
   "source": [
    "real = np.load('SoccerNetv2-DevKit/Task1-ActionSpotting/TemporallyAwarePooling/path/to/SoccerNet/france_ligue-1/2014-2015/2015-04-05 - 22-00 Marseille 2 - 3 Paris SG/1_ResNET_TF2.npy')"
   ]
  },
  {
   "cell_type": "code",
   "execution_count": 20,
   "id": "7aacb85a-52ed-4a00-849c-74adea519293",
   "metadata": {},
   "outputs": [],
   "source": [
    "combined = np.load(os.path.join(path2, sorted(os.listdir(path2))[0]))\n",
    "combined = np.vstack((combined, \\\n",
    "                     np.load(os.path.join(path2, sorted(os.listdir(path2))[1]))))"
   ]
  },
  {
   "cell_type": "code",
   "execution_count": 21,
   "id": "7664b232-bbd4-4edf-afe7-ad70292d2964",
   "metadata": {},
   "outputs": [
    {
     "data": {
      "text/plain": [
       "(1, 512)"
      ]
     },
     "execution_count": 21,
     "metadata": {},
     "output_type": "execute_result"
    }
   ],
   "source": [
    "np.load(os.path.join(path2, sorted(os.listdir(path2))[0])).shape"
   ]
  },
  {
   "cell_type": "code",
   "execution_count": 22,
   "id": "eab7362a-c4b3-4f25-994c-03ca86fbdb9e",
   "metadata": {},
   "outputs": [
    {
     "data": {
      "text/plain": [
       "67"
      ]
     },
     "execution_count": 22,
     "metadata": {},
     "output_type": "execute_result"
    }
   ],
   "source": [
    "test_name.index('.jpg.npy')"
   ]
  },
  {
   "cell_type": "code",
   "execution_count": 23,
   "id": "6aa0c260-8665-4d5e-8670-cdac1e135fd6",
   "metadata": {},
   "outputs": [
    {
     "data": {
      "text/plain": [
       "'1'"
      ]
     },
     "execution_count": 23,
     "metadata": {},
     "output_type": "execute_result"
    }
   ],
   "source": [
    "test_name[test_name.index('720p')+5:test_name.index('.jpg.npy')]"
   ]
  },
  {
   "cell_type": "code",
   "execution_count": 24,
   "id": "c14f5967-58a5-4b87-984b-11c32f4f492a",
   "metadata": {},
   "outputs": [],
   "source": [
    "combined = np.vstack((combined, np.load(os.path.join(path2, sorted(os.listdir(path2))[2]))))"
   ]
  },
  {
   "cell_type": "code",
   "execution_count": 25,
   "id": "3c63698e-b403-49b0-975c-1f5c9b1ef8ec",
   "metadata": {},
   "outputs": [
    {
     "data": {
      "text/plain": [
       "(3, 512)"
      ]
     },
     "execution_count": 25,
     "metadata": {},
     "output_type": "execute_result"
    }
   ],
   "source": [
    "combined.shape"
   ]
  },
  {
   "cell_type": "code",
   "execution_count": 26,
   "id": "3e73ba78-29da-46fc-b492-215f4062c45e",
   "metadata": {},
   "outputs": [
    {
     "data": {
      "text/plain": [
       "['feat_2014-2015_2015-04-05 - 22-00 Marseille 2 - 3 Paris SG_1_720p_992.jpg.npy',\n",
       " 'feat_2014-2015_2015-04-05 - 22-00 Marseille 2 - 3 Paris SG_1_720p_993.jpg.npy',\n",
       " 'feat_2014-2015_2015-04-05 - 22-00 Marseille 2 - 3 Paris SG_1_720p_994.jpg.npy',\n",
       " 'feat_2014-2015_2015-04-05 - 22-00 Marseille 2 - 3 Paris SG_1_720p_995.jpg.npy',\n",
       " 'feat_2014-2015_2015-04-05 - 22-00 Marseille 2 - 3 Paris SG_1_720p_996.jpg.npy',\n",
       " 'feat_2014-2015_2015-04-05 - 22-00 Marseille 2 - 3 Paris SG_1_720p_997.jpg.npy',\n",
       " 'feat_2014-2015_2015-04-05 - 22-00 Marseille 2 - 3 Paris SG_1_720p_998.jpg.npy',\n",
       " 'feat_2014-2015_2015-04-05 - 22-00 Marseille 2 - 3 Paris SG_1_720p_999.jpg.npy',\n",
       " 'feat_2014-2015_2015-04-05 - 22-00 Marseille 2 - 3 Paris SG_2_720p_1.jpg.npy']"
      ]
     },
     "execution_count": 26,
     "metadata": {},
     "output_type": "execute_result"
    }
   ],
   "source": [
    "def get_number(str):\n",
    "    return int(str[str.index('720p')+5:str.index('.jpg.npy')])\n",
    "\n",
    "list_1 = []\n",
    "i = 0\n",
    "sorted_1 = sorted(os.listdir(path2))\n",
    "\n",
    "while(sorted_1[i][:-10]==sorted_1[0][:-10]):\n",
    "    list_1.append(sorted_1[i])\n",
    "    i+=1\n",
    "\n",
    "sorted_2 = sorted(list_1, key = get_number)\n",
    "\n",
    "sorted_1[5420:5429]"
   ]
  },
  {
   "cell_type": "code",
   "execution_count": null,
   "id": "e7a8f9be-fce4-45a6-9be6-2f77b574eb1e",
   "metadata": {},
   "outputs": [],
   "source": []
  },
  {
   "cell_type": "code",
   "execution_count": 146,
   "id": "7800992c-e0b2-4164-932b-345dae4ea74d",
   "metadata": {},
   "outputs": [
    {
     "data": {
      "text/plain": [
       "'2014-2015_2015-04-05 - 22-00 Marseille 2 - 3 Paris SG_1'"
      ]
     },
     "execution_count": 146,
     "metadata": {},
     "output_type": "execute_result"
    }
   ],
   "source": [
    "test_name[5:-6][:-9]"
   ]
  },
  {
   "cell_type": "code",
   "execution_count": 164,
   "id": "893d5ffe-5c04-4691-a69a-cd91ad87e5f4",
   "metadata": {
    "scrolled": true
   },
   "outputs": [
    {
     "name": "stdout",
     "output_type": "stream",
     "text": [
      "0\n",
      "feat_2014-2015_2015-04-05 - 22-00 Marseille 2 - 3 Paris SG_1_720p_5428.jpg.npy\n",
      "5428\n",
      "feat_2014-2015_2015-04-05 - 22-00 Marseille 2 - 3 Paris SG_2_720p_6306.jpg.npy\n",
      "11734\n",
      "feat_2015-2016_2015-09-26 - 18-30 Nantes 1 - 4 Paris SG_1_720p_5400.jpg.npy\n",
      "17134\n",
      "feat_2015-2016_2015-09-26 - 18-30 Nantes 1 - 4 Paris SG_2_720p_5506.jpg.npy\n",
      "22640\n",
      "feat_2015-2016_2015-11-07 - 19-00 Paris SG 5 - 0 Toulouse_1_720p_5400.jpg.npy\n",
      "28040\n",
      "feat_2015-2016_2015-11-07 - 19-00 Paris SG 5 - 0 Toulouse_2_720p_5460.jpg.npy\n",
      "33500\n",
      "feat_2016-2017_2016-08-12 - 21-00 Bastia 0 - 1 Paris SG_1_720p_5400.jpg.npy\n",
      "38900\n",
      "feat_2016-2017_2016-08-12 - 21-00 Bastia 0 - 1 Paris SG_2_720p_5762.jpg.npy\n",
      "44662\n",
      "feat_2016-2017_2016-09-16 - 21-45 Caen 0 - 6 Paris SG_1_720p_5634.jpg.npy\n",
      "50296\n",
      "feat_2016-2017_2016-09-16 - 21-45 Caen 0 - 6 Paris SG_2_720p_5400.jpg.npy\n",
      "55696\n",
      "feat_2016-2017_2016-09-23 - 21-45 Toulouse 2 - 0 Paris SG_1_720p_5436.jpg.npy\n",
      "61132\n",
      "feat_2016-2017_2016-09-23 - 21-45 Toulouse 2 - 0 Paris SG_2_720p_5400.jpg.npy\n",
      "66532\n",
      "feat_2016-2017_2016-10-01 - 18-00 Paris SG 2 - 0 Bordeaux_1_720p_5400.jpg.npy\n",
      "71932\n",
      "feat_2016-2017_2016-10-01 - 18-00 Paris SG 2 - 0 Bordeaux_2_720p_5400.jpg.npy\n",
      "77332\n",
      "feat_2016-2017_2016-10-15 - 18-00 Nancy 1 - 2 Paris SG_1_720p_5400.jpg.npy\n",
      "82732\n",
      "feat_2016-2017_2016-10-15 - 18-00 Nancy 1 - 2 Paris SG_2_720p_5400.jpg.npy\n",
      "88132\n",
      "feat_2016-2017_2016-10-28 - 21-45 Lille 0 - 1 Paris SG_1_720p_5400.jpg.npy\n",
      "93532\n",
      "feat_2016-2017_2016-10-28 - 21-45 Lille 0 - 1 Paris SG_2_720p_5400.jpg.npy\n",
      "98932\n",
      "feat_2016-2017_2016-11-06 - 22-45 Paris SG 4 - 0 Rennes_1_720p_5654.jpg.npy\n",
      "104586\n",
      "feat_2016-2017_2016-11-06 - 22-45 Paris SG 4 - 0 Rennes_2_720p_5400.jpg.npy\n",
      "109986\n",
      "feat_2016-2017_2016-11-19 - 19-00 Paris SG 2 - 0 Nantes_1_720p_5400.jpg.npy\n",
      "115386\n",
      "feat_2016-2017_2016-11-19 - 19-00 Paris SG 2 - 0 Nantes_2_720p_5440.jpg.npy\n",
      "120826\n",
      "feat_2016-2017_2016-11-27 - 22-45 Lyon 1 - 2 Paris SG_1_720p_5664.jpg.npy\n",
      "126490\n",
      "feat_2016-2017_2016-11-27 - 22-45 Lyon 1 - 2 Paris SG_2_720p_5750.jpg.npy\n",
      "132240\n",
      "feat_2016-2017_2016-12-11 - 22-45 Paris SG 2 - 2 Nice_1_720p_5810.jpg.npy\n",
      "138050\n",
      "feat_2016-2017_2016-12-11 - 22-45 Paris SG 2 - 2 Nice_2_720p_5698.jpg.npy\n",
      "143748\n",
      "feat_2016-2017_2016-12-17 - 19-00 Guingamp 2 - 1 Paris SG_1_720p_5400.jpg.npy\n",
      "149148\n",
      "feat_2016-2017_2016-12-17 - 19-00 Guingamp 2 - 1 Paris SG_2_720p_5400.jpg.npy\n",
      "154548\n",
      "feat_2016-2017_2016-12-21 - 22-50 Paris SG 5 - 0 Lorient_1_720p_5400.jpg.npy\n",
      "159948\n",
      "feat_2016-2017_2016-12-21 - 22-50 Paris SG 5 - 0 Lorient_2_720p_5400.jpg.npy\n",
      "165348\n",
      "feat_2016-2017_2017-01-21 - 19-00 Nantes 0 - 2 Paris SG_1_720p_5400.jpg.npy\n",
      "170748\n",
      "feat_2016-2017_2017-01-21 - 19-00 Nantes 0 - 2 Paris SG_2_720p_5400.jpg.npy\n",
      "176148\n",
      "feat_2016-2017_2017-02-10 - 22-45 Bordeaux 0 - 3 Paris SG_1_720p_5400.jpg.npy\n",
      "181548\n",
      "feat_2016-2017_2017-02-10 - 22-45 Bordeaux 0 - 3 Paris SG_2_720p_5400.jpg.npy\n",
      "186948\n",
      "feat_2016-2017_2017-02-19 - 23-00 Paris SG 0 - 0 Toulouse_1_720p_5400.jpg.npy\n",
      "192348\n",
      "feat_2016-2017_2017-02-19 - 23-00 Paris SG 0 - 0 Toulouse_2_720p_5400.jpg.npy\n",
      "197748\n",
      "feat_2016-2017_2017-02-26 - 23-00 Marseille 1 - 5 Paris SG_1_720p_5400.jpg.npy\n",
      "203148\n",
      "feat_2016-2017_2017-02-26 - 23-00 Marseille 1 - 5 Paris SG_2_720p_5400.jpg.npy\n",
      "208548\n",
      "feat_2016-2017_2017-03-12 - 23-00 Lorient 1 - 2 Paris SG_1_720p_5400.jpg.npy\n",
      "213948\n",
      "feat_2016-2017_2017-03-12 - 23-00 Lorient 1 - 2 Paris SG_2_720p_5400.jpg.npy\n",
      "219348\n",
      "feat_2016-2017_2017-03-19 - 23-00 Paris SG 2 - 1 Lyon_1_720p_5400.jpg.npy\n",
      "224748\n",
      "feat_2016-2017_2017-03-19 - 23-00 Paris SG 2 - 1 Lyon_2_720p_5400.jpg.npy\n",
      "230148\n",
      "feat_2016-2017_2017-04-14 - 21-45 Angers 0 - 2 Paris SG_1_720p_5400.jpg.npy\n",
      "235548\n",
      "feat_2016-2017_2017-04-14 - 21-45 Angers 0 - 2 Paris SG_2_720p_5520.jpg.npy\n",
      "241068\n",
      "feat_2016-2017_2017-04-18 - 19-30 Metz 2 - 3 Paris SG_1_720p_5400.jpg.npy\n",
      "246468\n",
      "feat_2016-2017_2017-04-18 - 19-30 Metz 2 - 3 Paris SG_2_720p_5880.jpg.npy\n",
      "252348\n",
      "feat_2016-2017_2017-04-22 - 18-00 Paris SG 2 - 0 Montpellier_1_720p_5400.jpg.npy\n",
      "257748\n",
      "feat_2016-2017_2017-04-22 - 18-00 Paris SG 2 - 0 Montpellier_2_720p_5520.jpg.npy\n",
      "263268\n",
      "feat_2016-2017_2017-04-30 - 22-00 Nice 3 - 1 Paris SG_1_720p_5400.jpg.npy\n",
      "268668\n",
      "feat_2016-2017_2017-04-30 - 22-00 Nice 3 - 1 Paris SG_2_720p_5874.jpg.npy\n",
      "274542\n",
      "feat_2016-2017_2017-05-06 - 18-00 Paris SG 5 - 0 Bastia_1_720p_5400.jpg.npy\n",
      "279942\n",
      "feat_2016-2017_2017-05-06 - 18-00 Paris SG 5 - 0 Bastia_2_720p_5400.jpg.npy\n",
      "285342\n",
      "feat_2016-2017_2017-05-20 - 22-00 Paris SG 1 - 1 Caen_1_720p_5400.jpg.npy\n",
      "290742\n",
      "feat_2016-2017_2017-05-20 - 22-00 Paris SG 1 - 1 Caen_2_720p_5552.jpg.npy\n"
     ]
    }
   ],
   "source": [
    "def get_number(str):\n",
    "    return int(str[str.index('720p')+5:str.index('.jpg.npy')])\n",
    "\n",
    "start = 0\n",
    "while(start<len(sorted_1)-1):\n",
    "    i = start\n",
    "    print(start)\n",
    "    tmp_list = []\n",
    "    while(i<len(sorted_1) and sorted_1[i][:sorted_1[i].index('720p')+4]==sorted_1[start][:sorted_1[i].index('720p')+4]):\n",
    "        tmp_list.append(sorted_1[i])\n",
    "        i+=1\n",
    "    sorted_2 = sorted(tmp_list, key = get_number)\n",
    "    combined = np.load(os.path.join(path2, sorted_1[start]))\n",
    "    for j in range(1,len(sorted_2)):\n",
    "        combined = np.vstack((combined, np.load(os.path.join(path2, sorted_2[j]))))\n",
    "    print(sorted_2[-1])\n",
    "    np.save(\"./combined_features/combined_\"+sorted_2[-1][5:-9][:-9], combined)\n",
    "    start += len(sorted_2)"
   ]
  },
  {
   "cell_type": "code",
   "execution_count": 93,
   "id": "e2def0f0-92ea-47e0-ba4e-7152a8e4f401",
   "metadata": {},
   "outputs": [
    {
     "data": {
      "text/plain": [
       "(5428, 512)"
      ]
     },
     "execution_count": 93,
     "metadata": {},
     "output_type": "execute_result"
    }
   ],
   "source": [
    "combined.shape"
   ]
  },
  {
   "cell_type": "code",
   "execution_count": 11,
   "id": "91be9a7d-dd04-4ea5-9079-9e20546fa3b5",
   "metadata": {},
   "outputs": [
    {
     "data": {
      "text/plain": [
       "6306"
      ]
     },
     "execution_count": 11,
     "metadata": {},
     "output_type": "execute_result"
    }
   ],
   "source": [
    "np.load('./combined_features/combined_2014-2015_2015-04-05 - 22-00 Marseille 2 - 3 Paris SG_2.npy').shape[0]"
   ]
  },
  {
   "cell_type": "code",
   "execution_count": 12,
   "id": "8b52ef10-f387-4a16-9606-db28f569cfa2",
   "metadata": {},
   "outputs": [
    {
     "data": {
      "text/plain": [
       "(6307, 2048)"
      ]
     },
     "execution_count": 12,
     "metadata": {},
     "output_type": "execute_result"
    }
   ],
   "source": [
    "np.load('SoccerNetv2-DevKit/Task1-ActionSpotting/TemporallyAwarePooling/path/to/SoccerNet/france_ligue-1/2014-2015/2015-04-05 - 22-00 Marseille 2 - 3 Paris SG/2_ResNET_TF2.npy').shape"
   ]
  },
  {
   "cell_type": "code",
   "execution_count": 159,
   "id": "1bff39eb-6824-47a5-9c2c-2390a1db0214",
   "metadata": {},
   "outputs": [
    {
     "data": {
      "text/plain": [
       "43"
      ]
     },
     "execution_count": 159,
     "metadata": {},
     "output_type": "execute_result"
    }
   ],
   "source": [
    "len(os.listdir('SoccerNetv2-DevKit/Task1-ActionSpotting/TemporallyAwarePooling/path/to/SoccerNet/france_ligue-1/2016-2017'))"
   ]
  },
  {
   "cell_type": "code",
   "execution_count": 3,
   "id": "bc04db4e-723b-4d84-925c-0a8cb635d49c",
   "metadata": {},
   "outputs": [
    {
     "data": {
      "text/plain": [
       "55"
      ]
     },
     "execution_count": 3,
     "metadata": {},
     "output_type": "execute_result"
    }
   ],
   "source": [
    "len(os.listdir('combined_features'))"
   ]
  },
  {
   "cell_type": "code",
   "execution_count": 8,
   "id": "f4e5acea-abc0-4a90-bbf0-e3bd4410e700",
   "metadata": {},
   "outputs": [],
   "source": [
    "path_3 = 'SoccerNetv2-DevKit/Task1-ActionSpotting/TemporallyAwarePooling/combined_features'\n",
    "path_4 = 'SoccerNetv2-DevKit/Task1-ActionSpotting/TemporallyAwarePooling/path/to/SoccerNet/france_ligue-1'\n",
    "good_list = []\n",
    "for i in os.listdir(path_3):\n",
    "    try:\n",
    "        if np.load(os.path.join(path_3,i)).shape[0] == np.load(os.path.join(path_4, i[9:18], i[19:-6], i[-5]+'_ResNET_TF2.npy')).shape[0]:\n",
    "            good_list.append(i)\n",
    "    except IsADirectoryError as error:\n",
    "        continue"
   ]
  },
  {
   "cell_type": "code",
   "execution_count": 9,
   "id": "6d216667-c2ac-45aa-9fd8-ee2ca3542fcd",
   "metadata": {
    "scrolled": true
   },
   "outputs": [
    {
     "data": {
      "text/plain": [
       "['.ipynb_checkpoints',\n",
       " 'combined_2014-2015_2015-04-05 - 22-00 Marseille 2 - 3 Paris SG_1.npy',\n",
       " 'combined_2014-2015_2015-04-05 - 22-00 Marseille 2 - 3 Paris SG_2.npy',\n",
       " 'combined_2015-2016_2015-09-26 - 18-30 Nantes 1 - 4 Paris SG_1.npy',\n",
       " 'combined_2015-2016_2015-09-26 - 18-30 Nantes 1 - 4 Paris SG_2.npy',\n",
       " 'combined_2015-2016_2015-11-07 - 19-00 Paris SG 5 - 0 Toulouse_1.npy',\n",
       " 'combined_2015-2016_2015-11-07 - 19-00 Paris SG 5 - 0 Toulouse_2.npy',\n",
       " 'combined_2016-2017_2016-08-12 - 21-00 Bastia 0 - 1 Paris SG_1.npy',\n",
       " 'combined_2016-2017_2016-08-12 - 21-00 Bastia 0 - 1 Paris SG_2.npy',\n",
       " 'combined_2016-2017_2016-09-16 - 21-45 Caen 0 - 6 Paris SG_1.npy',\n",
       " 'combined_2016-2017_2016-09-16 - 21-45 Caen 0 - 6 Paris SG_2.npy',\n",
       " 'combined_2016-2017_2016-09-23 - 21-45 Toulouse 2 - 0 Paris SG_1.npy',\n",
       " 'combined_2016-2017_2016-09-23 - 21-45 Toulouse 2 - 0 Paris SG_2.npy',\n",
       " 'combined_2016-2017_2016-10-01 - 18-00 Paris SG 2 - 0 Bordeaux_1.npy',\n",
       " 'combined_2016-2017_2016-10-01 - 18-00 Paris SG 2 - 0 Bordeaux_2.npy',\n",
       " 'combined_2016-2017_2016-10-15 - 18-00 Nancy 1 - 2 Paris SG_1.npy',\n",
       " 'combined_2016-2017_2016-10-15 - 18-00 Nancy 1 - 2 Paris SG_2.npy',\n",
       " 'combined_2016-2017_2016-10-28 - 21-45 Lille 0 - 1 Paris SG_1.npy',\n",
       " 'combined_2016-2017_2016-10-28 - 21-45 Lille 0 - 1 Paris SG_2.npy',\n",
       " 'combined_2016-2017_2016-11-06 - 22-45 Paris SG 4 - 0 Rennes_1.npy',\n",
       " 'combined_2016-2017_2016-11-06 - 22-45 Paris SG 4 - 0 Rennes_2.npy',\n",
       " 'combined_2016-2017_2016-11-19 - 19-00 Paris SG 2 - 0 Nantes_1.npy',\n",
       " 'combined_2016-2017_2016-11-19 - 19-00 Paris SG 2 - 0 Nantes_2.npy',\n",
       " 'combined_2016-2017_2016-11-27 - 22-45 Lyon 1 - 2 Paris SG_1.npy',\n",
       " 'combined_2016-2017_2016-11-27 - 22-45 Lyon 1 - 2 Paris SG_2.npy',\n",
       " 'combined_2016-2017_2016-12-11 - 22-45 Paris SG 2 - 2 Nice_1.npy',\n",
       " 'combined_2016-2017_2016-12-11 - 22-45 Paris SG 2 - 2 Nice_2.npy',\n",
       " 'combined_2016-2017_2016-12-17 - 19-00 Guingamp 2 - 1 Paris SG_1.npy',\n",
       " 'combined_2016-2017_2016-12-17 - 19-00 Guingamp 2 - 1 Paris SG_2.npy',\n",
       " 'combined_2016-2017_2016-12-21 - 22-50 Paris SG 5 - 0 Lorient_1.npy',\n",
       " 'combined_2016-2017_2016-12-21 - 22-50 Paris SG 5 - 0 Lorient_2.npy',\n",
       " 'combined_2016-2017_2017-01-21 - 19-00 Nantes 0 - 2 Paris SG_1.npy',\n",
       " 'combined_2016-2017_2017-01-21 - 19-00 Nantes 0 - 2 Paris SG_2.npy',\n",
       " 'combined_2016-2017_2017-02-10 - 22-45 Bordeaux 0 - 3 Paris SG_1.npy',\n",
       " 'combined_2016-2017_2017-02-10 - 22-45 Bordeaux 0 - 3 Paris SG_2.npy',\n",
       " 'combined_2016-2017_2017-02-19 - 23-00 Paris SG 0 - 0 Toulouse_1.npy',\n",
       " 'combined_2016-2017_2017-02-19 - 23-00 Paris SG 0 - 0 Toulouse_2.npy',\n",
       " 'combined_2016-2017_2017-02-26 - 23-00 Marseille 1 - 5 Paris SG_1.npy',\n",
       " 'combined_2016-2017_2017-02-26 - 23-00 Marseille 1 - 5 Paris SG_2.npy',\n",
       " 'combined_2016-2017_2017-03-12 - 23-00 Lorient 1 - 2 Paris SG_1.npy',\n",
       " 'combined_2016-2017_2017-03-12 - 23-00 Lorient 1 - 2 Paris SG_2.npy',\n",
       " 'combined_2016-2017_2017-03-19 - 23-00 Paris SG 2 - 1 Lyon_1.npy',\n",
       " 'combined_2016-2017_2017-03-19 - 23-00 Paris SG 2 - 1 Lyon_2.npy',\n",
       " 'combined_2016-2017_2017-04-14 - 21-45 Angers 0 - 2 Paris SG_1.npy',\n",
       " 'combined_2016-2017_2017-04-14 - 21-45 Angers 0 - 2 Paris SG_2.npy',\n",
       " 'combined_2016-2017_2017-04-18 - 19-30 Metz 2 - 3 Paris SG_1.npy',\n",
       " 'combined_2016-2017_2017-04-18 - 19-30 Metz 2 - 3 Paris SG_2.npy',\n",
       " 'combined_2016-2017_2017-04-22 - 18-00 Paris SG 2 - 0 Montpellier_1.npy',\n",
       " 'combined_2016-2017_2017-04-22 - 18-00 Paris SG 2 - 0 Montpellier_2.npy',\n",
       " 'combined_2016-2017_2017-04-30 - 22-00 Nice 3 - 1 Paris SG_1.npy',\n",
       " 'combined_2016-2017_2017-04-30 - 22-00 Nice 3 - 1 Paris SG_2.npy',\n",
       " 'combined_2016-2017_2017-05-06 - 18-00 Paris SG 5 - 0 Bastia_1.npy',\n",
       " 'combined_2016-2017_2017-05-06 - 18-00 Paris SG 5 - 0 Bastia_2.npy',\n",
       " 'combined_2016-2017_2017-05-20 - 22-00 Paris SG 1 - 1 Caen_1.npy',\n",
       " 'combined_2016-2017_2017-05-20 - 22-00 Paris SG 1 - 1 Caen_2.npy']"
      ]
     },
     "execution_count": 9,
     "metadata": {},
     "output_type": "execute_result"
    }
   ],
   "source": [
    "sorted(os.listdir('combined_features'))"
   ]
  },
  {
   "cell_type": "code",
   "execution_count": 9,
   "id": "acd8adec-15c6-411e-8676-c6e2ae646dbb",
   "metadata": {},
   "outputs": [
    {
     "ename": "ValueError",
     "evalue": "list.remove(x): x not in list",
     "output_type": "error",
     "traceback": [
      "\u001b[0;31m---------------------------------------------------------------------------\u001b[0m",
      "\u001b[0;31mValueError\u001b[0m                                Traceback (most recent call last)",
      "Cell \u001b[0;32mIn[9], line 1\u001b[0m\n\u001b[0;32m----> 1\u001b[0m \u001b[43mgood_list\u001b[49m\u001b[38;5;241;43m.\u001b[39;49m\u001b[43mremove\u001b[49m\u001b[43m(\u001b[49m\u001b[38;5;124;43m'\u001b[39;49m\u001b[38;5;124;43mcombined_2014-2015_2015-04-05 - 22-00 Marseille 2 - 3 Paris SG_1.npy\u001b[39;49m\u001b[38;5;124;43m'\u001b[39;49m\u001b[43m)\u001b[49m\n\u001b[1;32m      2\u001b[0m good_list\u001b[38;5;241m.\u001b[39mremove(\u001b[38;5;124m'\u001b[39m\u001b[38;5;124mcombined_2016-2017_2017-04-18 - 19-30 Metz 2 - 3 Paris SG_2.npy\u001b[39m\u001b[38;5;124m'\u001b[39m)\n\u001b[1;32m      3\u001b[0m good_list\u001b[38;5;241m.\u001b[39mremove(\u001b[38;5;124m'\u001b[39m\u001b[38;5;124mcombined_2016-2017_2017-05-20 - 22-00 Paris SG 1 - 1 Caen_2.npy\u001b[39m\u001b[38;5;124m'\u001b[39m)\n",
      "\u001b[0;31mValueError\u001b[0m: list.remove(x): x not in list"
     ]
    }
   ],
   "source": [
    "good_list.remove('combined_2014-2015_2015-04-05 - 22-00 Marseille 2 - 3 Paris SG_1.npy')\n",
    "good_list.remove('combined_2016-2017_2017-04-18 - 19-30 Metz 2 - 3 Paris SG_2.npy')\n",
    "good_list.remove('combined_2016-2017_2017-05-20 - 22-00 Paris SG 1 - 1 Caen_2.npy')"
   ]
  },
  {
   "cell_type": "code",
   "execution_count": 10,
   "id": "e8dcfbd6-f868-4036-b4a0-251c1e4c83cf",
   "metadata": {},
   "outputs": [
    {
     "data": {
      "text/plain": [
       "48"
      ]
     },
     "execution_count": 10,
     "metadata": {},
     "output_type": "execute_result"
    }
   ],
   "source": [
    "len(good_list)"
   ]
  },
  {
   "cell_type": "code",
   "execution_count": 34,
   "id": "42989b5b-8c4f-4856-88ec-2984e077f026",
   "metadata": {},
   "outputs": [],
   "source": [
    "for i in os.listdir('combined_features'):\n",
    "    if i not in good_list and os.path.isfile(os.path.join(path_3,i)):\n",
    "        os.remove(os.path.join(path_3,i))"
   ]
  },
  {
   "cell_type": "code",
   "execution_count": 35,
   "id": "55ab6ec4-75da-4c17-9928-ed606376b33a",
   "metadata": {},
   "outputs": [
    {
     "data": {
      "text/plain": [
       "49"
      ]
     },
     "execution_count": 35,
     "metadata": {},
     "output_type": "execute_result"
    }
   ],
   "source": [
    "len(os.listdir('combined_features'))"
   ]
  },
  {
   "cell_type": "code",
   "execution_count": 1,
   "id": "d3c54ba1-4635-4525-9fab-9d471c1278ed",
   "metadata": {},
   "outputs": [],
   "source": [
    "from SoccerNet.Downloader import getListGames"
   ]
  },
  {
   "cell_type": "code",
   "execution_count": 11,
   "id": "9e29b42d-574f-4822-bc9f-9cec64625771",
   "metadata": {},
   "outputs": [],
   "source": [
    "listGames = getListGames([\"train\"])"
   ]
  },
  {
   "cell_type": "code",
   "execution_count": 12,
   "id": "c8930c00-74c0-4c70-a414-d91b26459e09",
   "metadata": {},
   "outputs": [
    {
     "data": {
      "text/plain": [
       "'england_epl/2014-2015/2015-02-21 - 18-00 Chelsea 1 - 1 Burnley'"
      ]
     },
     "execution_count": 12,
     "metadata": {},
     "output_type": "execute_result"
    }
   ],
   "source": [
    "listGames[0]"
   ]
  },
  {
   "cell_type": "code",
   "execution_count": 17,
   "id": "d747a049-ba5a-47a2-9f44-b8c58ef9a96d",
   "metadata": {},
   "outputs": [],
   "source": [
    "good_names = []\n",
    "for i in good_list:\n",
    "    good_names.append('france_ligue-1/'+i[9:-6].replace('_',listGames[0][11]))"
   ]
  },
  {
   "cell_type": "code",
   "execution_count": 28,
   "id": "2fb36266-5614-476d-a5b1-80971dad93ee",
   "metadata": {},
   "outputs": [
    {
     "data": {
      "text/plain": [
       "'france_ligue-1/2016-2017/2017-02-19 - 23-00 Paris SG 0 - 0 Toulouse'"
      ]
     },
     "execution_count": 28,
     "metadata": {},
     "output_type": "execute_result"
    }
   ],
   "source": [
    "b = good_names[0]\n",
    "b"
   ]
  },
  {
   "cell_type": "code",
   "execution_count": 19,
   "id": "39976c8d-7d72-4c73-a1a5-ff6d62626e4c",
   "metadata": {},
   "outputs": [],
   "source": [
    "import json\n",
    "with open(\"SoccerNetv2-DevKit/Task1-ActionSpotting/TemporallyAwarePooling/src/names\", \"w\") as fp:\n",
    "    json.dump(good_names, fp)\n",
    "with open(\"SoccerNetv2-DevKit/Task1-ActionSpotting/TemporallyAwarePooling/src/names\", \"r\") as fp:\n",
    "    b = json.load(fp)"
   ]
  },
  {
   "cell_type": "code",
   "execution_count": 32,
   "id": "7ce71479-4990-40ba-b5c7-869c38356f2d",
   "metadata": {},
   "outputs": [],
   "source": [
    "tmp = 'combined_'+b[15:].replace('/','_')+'_2.npy'"
   ]
  },
  {
   "cell_type": "code",
   "execution_count": 33,
   "id": "dce95929-4f7e-42bb-a441-0a4a5e76cf16",
   "metadata": {},
   "outputs": [],
   "source": [
    "test_clip = np.load(\"SoccerNetv2-DevKit/Task1-ActionSpotting/TemporallyAwarePooling/combined_features/\"+tmp)"
   ]
  },
  {
   "cell_type": "code",
   "execution_count": 34,
   "id": "65efd602-386d-4c9f-866a-902b7c77e65a",
   "metadata": {},
   "outputs": [],
   "source": [
    "test_real = np.load(\"SoccerNetv2-DevKit/Task1-ActionSpotting/TemporallyAwarePooling/path/to/SoccerNet/france_ligue-1/2016-2017/2017-02-19 - 23-00 Paris SG 0 - 0 Toulouse/2_ResNET_TF2_PCA512.npy\")"
   ]
  },
  {
   "cell_type": "code",
   "execution_count": 35,
   "id": "c18e63a5-4af7-46b3-97a6-a1cb5488664a",
   "metadata": {},
   "outputs": [
    {
     "data": {
      "text/plain": [
       "(5400, 512)"
      ]
     },
     "execution_count": 35,
     "metadata": {},
     "output_type": "execute_result"
    }
   ],
   "source": [
    "np.add(test_clip, test_real).shape"
   ]
  },
  {
   "cell_type": "code",
   "execution_count": 38,
   "id": "b22c2267-b302-40c1-ba53-a614bac2000e",
   "metadata": {},
   "outputs": [],
   "source": [
    "test_clip = np.concatenate((test_clip, test_real), axis=0)"
   ]
  },
  {
   "cell_type": "code",
   "execution_count": 39,
   "id": "990dccc0-6643-4a58-98e3-bf0775657ba9",
   "metadata": {},
   "outputs": [
    {
     "data": {
      "text/plain": [
       "(10800, 512)"
      ]
     },
     "execution_count": 39,
     "metadata": {},
     "output_type": "execute_result"
    }
   ],
   "source": [
    "test_clip.shape"
   ]
  },
  {
   "cell_type": "code",
   "execution_count": 40,
   "id": "c86b47d7-97e9-4063-8044-ee1e86b1d81d",
   "metadata": {},
   "outputs": [],
   "source": [
    "path = \"SoccerNetv2-DevKit/Task1-ActionSpotting/TemporallyAwarePooling/combined_features\"\n",
    "res = 0\n",
    "for i in good_list:\n",
    "    tmp = np.load(os.path.join(path,i))\n",
    "    if np.isnan(tmp).any():\n",
    "        print(i)\n",
    "        res+=1"
   ]
  },
  {
   "cell_type": "code",
   "execution_count": 41,
   "id": "b9d0e991-a4c5-495f-b754-cf0a17e8e066",
   "metadata": {},
   "outputs": [
    {
     "data": {
      "text/plain": [
       "0"
      ]
     },
     "execution_count": 41,
     "metadata": {},
     "output_type": "execute_result"
    }
   ],
   "source": [
    "res"
   ]
  },
  {
   "cell_type": "code",
   "execution_count": 42,
   "id": "662ad1fc-5a55-400c-85bf-db1e1dad256d",
   "metadata": {},
   "outputs": [],
   "source": [
    "import sklearn.metrics\n",
    "from sklearn.metrics import average_precision_score"
   ]
  },
  {
   "cell_type": "code",
   "execution_count": 44,
   "id": "51ef4321-2d60-4fe8-a486-e9ea61841d3f",
   "metadata": {},
   "outputs": [
    {
     "name": "stderr",
     "output_type": "stream",
     "text": [
      "/opt/conda/lib/python3.10/site-packages/sklearn/metrics/_ranking.py:891: UserWarning: No positive class found in y_true, recall is set to one for all thresholds.\n",
      "  warnings.warn(\n"
     ]
    },
    {
     "data": {
      "text/plain": [
       "-0.0"
      ]
     },
     "execution_count": 44,
     "metadata": {},
     "output_type": "execute_result"
    }
   ],
   "source": [
    "average_precision_score(np.array([0, 0, 0, 0, 0]), np.array([0, 0, 0, 0, 0]))"
   ]
  },
  {
   "cell_type": "code",
   "execution_count": 3,
   "id": "9cd135fb-684d-4ac4-b744-841e9c974f09",
   "metadata": {},
   "outputs": [],
   "source": [
    "path = \"SoccerNetv2-DevKit/Task1-ActionSpotting/CALF/\""
   ]
  },
  {
   "cell_type": "code",
   "execution_count": 4,
   "id": "4e7eecf1-aaac-4f46-bb48-d5b9bac6eb20",
   "metadata": {},
   "outputs": [],
   "source": [
    "prediction = os.path.join(path, 'inference/outputs/Predictions-v2.json')\n",
    "file = os.path.join(path,'test_vid_2.mp4')"
   ]
  },
  {
   "cell_type": "code",
   "execution_count": null,
   "id": "15d94012-8365-4bd5-8aed-b571a2ba6834",
   "metadata": {},
   "outputs": [],
   "source": []
  },
  {
   "cell_type": "code",
   "execution_count": 5,
   "id": "2b881eed-8060-415f-9658-29fbcd0ba47d",
   "metadata": {},
   "outputs": [],
   "source": [
    "cap = cv2.VideoCapture(file)"
   ]
  },
  {
   "cell_type": "code",
   "execution_count": 6,
   "id": "b32de888-535f-43b7-a2a9-c21b8d9e8c16",
   "metadata": {},
   "outputs": [],
   "source": [
    "with open(prediction, \"r\") as f:\n",
    "    predictions = json.load(f)"
   ]
  },
  {
   "cell_type": "code",
   "execution_count": 52,
   "id": "d462cfae-a474-4b8f-b0f7-b3d3440ce0ad",
   "metadata": {},
   "outputs": [
    {
     "data": {
      "text/plain": [
       "640.0"
      ]
     },
     "execution_count": 52,
     "metadata": {},
     "output_type": "execute_result"
    }
   ],
   "source": [
    "cap.get(3)"
   ]
  },
  {
   "cell_type": "code",
   "execution_count": 82,
   "id": "b61cba97-622a-45c5-9623-0d4961de7f9f",
   "metadata": {},
   "outputs": [
    {
     "data": {
      "text/plain": [
       "25500"
      ]
     },
     "execution_count": 82,
     "metadata": {},
     "output_type": "execute_result"
    }
   ],
   "source": [
    "int(predictions.get('predictions')[0]['position'])"
   ]
  },
  {
   "cell_type": "code",
   "execution_count": 140,
   "id": "192c3da0-7293-44f8-a1be-b89444259331",
   "metadata": {
    "scrolled": true
   },
   "outputs": [],
   "source": [
    "output_video_path = \"output_video.mp4\"  # Replace with the desired output video path\n",
    "fourcc = cv2.VideoWriter_fourcc(*\"mp4v\")\n",
    "out = cv2.VideoWriter(output_video_path, fourcc, cap.get(cv2.CAP_PROP_FPS), (int(cap.get(3)), int(cap.get(4))))\n",
    "while cap.isOpened():\n",
    "    ret, frame = cap.read()\n",
    "    if not ret:\n",
    "        break\n",
    "\n",
    "    frame_index = int(cap.get(cv2.CAP_PROP_POS_MSEC))\n",
    "    labeled_frame = frame.copy()\n",
    "    \n",
    "    frame_predictions = predictions.get('predictions')\n",
    "    \n",
    "    for i in range(len(frame_predictions)):\n",
    "        if int(frame_index/1000)*1000==int(int(frame_predictions[i]['position'])/1000)*1000:\n",
    "            label = frame_predictions[i][\"label\"]\n",
    "            confidence = frame_predictions[i][\"confidence\"]\n",
    "        #xmin, ymin, xmax, ymax = prediction[\"bbox\"]\n",
    "\n",
    "        # Draw bounding box on the frame\n",
    "        #cv2.rectangle(frame, (int(xmin), int(ymin)), (int(xmax), int(ymax)), (0, 255, 0), 2)\n",
    "            cv2.putText(labeled_frame, label, (50,50), cv2.FONT_HERSHEY_SIMPLEX, 1, (0, 255, 0), 2, cv2.LINE_8)\n",
    "            cv2.putText(labeled_frame, confidence, (50,80), cv2.FONT_HERSHEY_SIMPLEX, 1, (0, 255, 0), 2, cv2.LINE_8)\n",
    "\n",
    "    out.write(labeled_frame)\n",
    "    #if cv2.waitKey(1) & 0xFF == ord(\"q\"):\n",
    "    #    break\n",
    "\n",
    "cap.release()\n",
    "out.release()\n"
   ]
  },
  {
   "cell_type": "code",
   "execution_count": 104,
   "id": "b16923a1-e112-43d4-83e0-3c47013ef401",
   "metadata": {
    "scrolled": true
   },
   "outputs": [
    {
     "data": {
      "text/plain": [
       "[{'gameTime': '1 - 0:25',\n",
       "  'label': 'Throw-in',\n",
       "  'position': '25500',\n",
       "  'half': '1',\n",
       "  'confidence': '0.6571052670478821'},\n",
       " {'gameTime': '1 - 0:31',\n",
       "  'label': 'Clearance',\n",
       "  'position': '31000',\n",
       "  'half': '1',\n",
       "  'confidence': '0.6067454814910889'},\n",
       " {'gameTime': '1 - 0:41',\n",
       "  'label': 'Shots on target',\n",
       "  'position': '41000',\n",
       "  'half': '1',\n",
       "  'confidence': '0.36006632447242737'},\n",
       " {'gameTime': '1 - 0:52',\n",
       "  'label': 'Shots on target',\n",
       "  'position': '52000',\n",
       "  'half': '1',\n",
       "  'confidence': '0.2590104341506958'},\n",
       " {'gameTime': '1 - 1:0',\n",
       "  'label': 'Ball out of play',\n",
       "  'position': '60000',\n",
       "  'half': '1',\n",
       "  'confidence': '0.7889529466629028'},\n",
       " {'gameTime': '1 - 1:6',\n",
       "  'label': 'Shots on target',\n",
       "  'position': '66000',\n",
       "  'half': '1',\n",
       "  'confidence': '0.550079882144928'},\n",
       " {'gameTime': '1 - 1:18',\n",
       "  'label': 'Shots on target',\n",
       "  'position': '78000',\n",
       "  'half': '1',\n",
       "  'confidence': '0.3410050868988037'},\n",
       " {'gameTime': '1 - 1:23',\n",
       "  'label': 'Goal',\n",
       "  'position': '83000',\n",
       "  'half': '1',\n",
       "  'confidence': '0.6788598895072937'},\n",
       " {'gameTime': '1 - 1:35',\n",
       "  'label': 'Shots on target',\n",
       "  'position': '95000',\n",
       "  'half': '1',\n",
       "  'confidence': '0.42824506759643555'},\n",
       " {'gameTime': '1 - 1:46',\n",
       "  'label': 'Kick-off',\n",
       "  'position': '106500',\n",
       "  'half': '1',\n",
       "  'confidence': '0.3526235520839691'},\n",
       " {'gameTime': '1 - 1:54',\n",
       "  'label': 'Shots on target',\n",
       "  'position': '114000',\n",
       "  'half': '1',\n",
       "  'confidence': '0.6488650441169739'},\n",
       " {'gameTime': '1 - 2:0',\n",
       "  'label': 'Ball out of play',\n",
       "  'position': '120000',\n",
       "  'half': '1',\n",
       "  'confidence': '0.5855225920677185'}]"
      ]
     },
     "execution_count": 104,
     "metadata": {},
     "output_type": "execute_result"
    }
   ],
   "source": [
    "frame_predictions"
   ]
  },
  {
   "cell_type": "code",
   "execution_count": 88,
   "id": "b34bdc7b-787a-4d25-bf28-58aff0c34e60",
   "metadata": {},
   "outputs": [
    {
     "data": {
      "text/plain": [
       "[{'gameTime': '1 - 0:25',\n",
       "  'label': 'Throw-in',\n",
       "  'position': '25500',\n",
       "  'half': '1',\n",
       "  'confidence': '0.6571052670478821'},\n",
       " {'gameTime': '1 - 0:31',\n",
       "  'label': 'Clearance',\n",
       "  'position': '31000',\n",
       "  'half': '1',\n",
       "  'confidence': '0.6067454814910889'},\n",
       " {'gameTime': '1 - 0:41',\n",
       "  'label': 'Shots on target',\n",
       "  'position': '41000',\n",
       "  'half': '1',\n",
       "  'confidence': '0.36006632447242737'},\n",
       " {'gameTime': '1 - 0:52',\n",
       "  'label': 'Shots on target',\n",
       "  'position': '52000',\n",
       "  'half': '1',\n",
       "  'confidence': '0.2590104341506958'},\n",
       " {'gameTime': '1 - 1:0',\n",
       "  'label': 'Ball out of play',\n",
       "  'position': '60000',\n",
       "  'half': '1',\n",
       "  'confidence': '0.7889529466629028'},\n",
       " {'gameTime': '1 - 1:6',\n",
       "  'label': 'Shots on target',\n",
       "  'position': '66000',\n",
       "  'half': '1',\n",
       "  'confidence': '0.550079882144928'},\n",
       " {'gameTime': '1 - 1:18',\n",
       "  'label': 'Shots on target',\n",
       "  'position': '78000',\n",
       "  'half': '1',\n",
       "  'confidence': '0.3410050868988037'},\n",
       " {'gameTime': '1 - 1:23',\n",
       "  'label': 'Goal',\n",
       "  'position': '83000',\n",
       "  'half': '1',\n",
       "  'confidence': '0.6788598895072937'},\n",
       " {'gameTime': '1 - 1:35',\n",
       "  'label': 'Shots on target',\n",
       "  'position': '95000',\n",
       "  'half': '1',\n",
       "  'confidence': '0.42824506759643555'},\n",
       " {'gameTime': '1 - 1:46',\n",
       "  'label': 'Kick-off',\n",
       "  'position': '106500',\n",
       "  'half': '1',\n",
       "  'confidence': '0.3526235520839691'},\n",
       " {'gameTime': '1 - 1:54',\n",
       "  'label': 'Shots on target',\n",
       "  'position': '114000',\n",
       "  'half': '1',\n",
       "  'confidence': '0.6488650441169739'},\n",
       " {'gameTime': '1 - 2:0',\n",
       "  'label': 'Ball out of play',\n",
       "  'position': '120000',\n",
       "  'half': '1',\n",
       "  'confidence': '0.5855225920677185'}]"
      ]
     },
     "execution_count": 88,
     "metadata": {},
     "output_type": "execute_result"
    }
   ],
   "source": [
    "predictions.get('predictions')"
   ]
  },
  {
   "cell_type": "code",
   "execution_count": 89,
   "id": "d6b64990-472f-40ab-8d66-38fb5f2075aa",
   "metadata": {},
   "outputs": [],
   "source": [
    "cap.set(cv2.CAP_PROP_POS_MSEC, 25500)\n",
    "ret, frame = cap.read()"
   ]
  },
  {
   "cell_type": "code",
   "execution_count": null,
   "id": "73034b7e-4a4b-45ad-b336-1f5645e12b9b",
   "metadata": {},
   "outputs": [],
   "source": []
  },
  {
   "cell_type": "code",
   "execution_count": null,
   "id": "32b1858b-e403-4e02-8e1a-96362ad577c3",
   "metadata": {},
   "outputs": [],
   "source": []
  }
 ],
 "metadata": {
  "kernelspec": {
   "display_name": "Python 3 (ipykernel)",
   "language": "python",
   "name": "python3"
  },
  "language_info": {
   "codemirror_mode": {
    "name": "ipython",
    "version": 3
   },
   "file_extension": ".py",
   "mimetype": "text/x-python",
   "name": "python",
   "nbconvert_exporter": "python",
   "pygments_lexer": "ipython3",
   "version": "3.10.11"
  }
 },
 "nbformat": 4,
 "nbformat_minor": 5
}
