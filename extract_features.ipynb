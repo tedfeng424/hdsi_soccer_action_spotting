{
 "cells": [
  {
   "cell_type": "code",
   "execution_count": 1,
   "id": "c25c07bb",
   "metadata": {},
   "outputs": [],
   "source": [
    "import os\n",
    "# os.environ[\"CUDA_VISIBLE_DEVICES\"]=\"6\"\n",
    "import torch\n",
    "import clip\n",
    "from PIL import Image\n",
    "from SoccerNet.utils import getListGames\n",
    "import time\n",
    "from tqdm import tqdm\n",
    "from natsort import natsorted\n",
    "import numpy as np"
   ]
  },
  {
   "cell_type": "code",
   "execution_count": 2,
   "id": "4cc2835b",
   "metadata": {},
   "outputs": [
    {
     "data": {
      "text/plain": [
       "True"
      ]
     },
     "execution_count": 2,
     "metadata": {},
     "output_type": "execute_result"
    }
   ],
   "source": [
    "torch.cuda.is_available()"
   ]
  },
  {
   "cell_type": "code",
   "execution_count": 3,
   "id": "a236082f",
   "metadata": {},
   "outputs": [
    {
     "data": {
      "text/plain": [
       "'cuda'"
      ]
     },
     "execution_count": 3,
     "metadata": {},
     "output_type": "execute_result"
    }
   ],
   "source": [
    "device = \"cuda\" if torch.cuda.is_available() else \"cpu\"\n",
    "device"
   ]
  },
  {
   "cell_type": "code",
   "execution_count": 4,
   "id": "0a94c185",
   "metadata": {},
   "outputs": [
    {
     "data": {
      "text/plain": [
       "['RN50',\n",
       " 'RN101',\n",
       " 'RN50x4',\n",
       " 'RN50x16',\n",
       " 'RN50x64',\n",
       " 'ViT-B/32',\n",
       " 'ViT-B/16',\n",
       " 'ViT-L/14',\n",
       " 'ViT-L/14@336px']"
      ]
     },
     "execution_count": 4,
     "metadata": {},
     "output_type": "execute_result"
    }
   ],
   "source": [
    "# Available CLIP models\n",
    "clip.available_models()"
   ]
  },
  {
   "cell_type": "code",
   "execution_count": 5,
   "id": "376835e7",
   "metadata": {},
   "outputs": [],
   "source": [
    "# Use ResNet Model\n",
    "# Load CLIP Models\n",
    "model_dir = \"/data/ted/hdsi/models\"\n",
    "model, preprocess = clip.load(\"RN50x64\", device='cuda', download_root = model_dir)"
   ]
  },
  {
   "cell_type": "code",
   "execution_count": 6,
   "id": "2fe21409",
   "metadata": {},
   "outputs": [],
   "source": [
    "def get_embedding(model, image_path):\n",
    "    image = preprocess(Image.open(image_path)).unsqueeze(0).to(device)\n",
    "    with torch.no_grad():\n",
    "        image_features = model.encode_image(image)\n",
    "        \n",
    "    return image_features"
   ]
  },
  {
   "cell_type": "code",
   "execution_count": 7,
   "id": "15267bdb",
   "metadata": {},
   "outputs": [
    {
     "data": {
      "text/plain": [
       "torch.Size([1, 1024])"
      ]
     },
     "execution_count": 7,
     "metadata": {},
     "output_type": "execute_result"
    }
   ],
   "source": [
    "feat = get_embedding(model, \"11.jpg\")\n",
    "feat.size()"
   ]
  },
  {
   "attachments": {},
   "cell_type": "markdown",
   "id": "eeb05863",
   "metadata": {},
   "source": [
    "### Extract Features"
   ]
  },
  {
   "cell_type": "code",
   "execution_count": 8,
   "id": "7d55bb69",
   "metadata": {},
   "outputs": [],
   "source": [
    "games = getListGames(\"challenge\")\n",
    "# leagues = [\"germany_bundesliga\", \"italy_serie-a\", \"spain_laliga\"]\n",
    "# games = [game for game in games if game.split(\"/\")[0] in leagues]"
   ]
  },
  {
   "cell_type": "code",
   "execution_count": 9,
   "id": "19d6335f",
   "metadata": {},
   "outputs": [
    {
     "data": {
      "text/plain": [
       "50"
      ]
     },
     "execution_count": 9,
     "metadata": {},
     "output_type": "execute_result"
    }
   ],
   "source": [
    "len(games)"
   ]
  },
  {
   "cell_type": "code",
   "execution_count": 13,
   "id": "b952b54e",
   "metadata": {},
   "outputs": [
    {
     "name": "stdout",
     "output_type": "stream",
     "text": [
      "challenge_sn_video/england_epl/2016-2017/2017-05-13 - 18-00 Stoke City 1 - 4 Arsenal/1_720p/\n",
      "challenge_sn_video/england_epl/2016-2017/2017-05-13 - 18-00 Stoke City 1 - 4 Arsenal/2_720p/\n",
      "challenge_sn_video/england_epl/2016-2017/2017-04-30 - 18-00 Tottenham 2 - 0 Arsenal/1_720p/\n",
      "challenge_sn_video/england_epl/2016-2017/2017-04-30 - 18-00 Tottenham 2 - 0 Arsenal/2_720p/\n",
      "challenge_sn_video/england_epl/2016-2017/2017-04-10 - 18-00 Crystal Palace 3 - 0 Arsenal/1_720p/\n",
      "challenge_sn_video/england_epl/2016-2017/2017-04-10 - 18-00 Crystal Palace 3 - 0 Arsenal/2_720p/\n",
      "challenge_sn_video/england_epl/2016-2017/2017-04-02 - 18-00 Arsenal 2 - 2 Manchester City/1_720p/\n",
      "challenge_sn_video/england_epl/2016-2017/2017-04-02 - 18-00 Arsenal 2 - 2 Manchester City/2_720p/\n",
      "challenge_sn_video/england_epl/2016-2017/2017-03-18 - 18-00 West Brom 3 - 1 Arsenal/1_720p/\n",
      "challenge_sn_video/england_epl/2016-2017/2017-03-18 - 18-00 West Brom 3 - 1 Arsenal/2_720p/\n",
      "challenge_sn_video/england_epl/2016-2017/2017-02-04 - 18-00 Chelsea 3 - 1 Arsenal/1_720p/\n",
      "challenge_sn_video/england_epl/2016-2017/2017-02-04 - 18-00 Chelsea 3 - 1 Arsenal/2_720p/\n",
      "challenge_sn_video/england_epl/2016-2017/2017-01-22 - 18-00 Arsenal 2 - 1 Burnley/1_720p/\n",
      "challenge_sn_video/england_epl/2016-2017/2017-01-22 - 18-00 Arsenal 2 - 1 Burnley/2_720p/\n",
      "challenge_sn_video/england_epl/2016-2017/2017-01-03 - 18-00 Bournemouth 3 - 3 Arsenal/1_720p/\n",
      "challenge_sn_video/england_epl/2016-2017/2017-01-03 - 18-00 Bournemouth 3 - 3 Arsenal/2_720p/\n",
      "challenge_sn_video/england_epl/2016-2017/2016-11-19 - 18-00 Manchester United 1 - 1 Arsenal/1_720p/\n",
      "challenge_sn_video/england_epl/2016-2017/2016-11-19 - 18-00 Manchester United 1 - 1 Arsenal/2_720p/\n",
      "challenge_sn_video/europe_uefa-champions-league/2016-2017/2017-05-09 - 18-00 Juventus 2 - 1 Monaco/1_720p/\n",
      "challenge_sn_video/europe_uefa-champions-league/2016-2017/2017-05-09 - 18-00 Juventus 2 - 1 Monaco/2_720p/\n",
      "challenge_sn_video/europe_uefa-champions-league/2016-2017/2017-04-11 - 18-00 Juventus 3 - 0 Barcelona/1_720p/\n",
      "challenge_sn_video/europe_uefa-champions-league/2016-2017/2017-04-11 - 18-00 Juventus 3 - 0 Barcelona/2_720p/\n",
      "challenge_sn_video/europe_uefa-champions-league/2016-2017/2017-03-07 - 18-00 Arsenal 1 - 5 Bayern/1_720p/\n",
      "challenge_sn_video/europe_uefa-champions-league/2016-2017/2017-03-07 - 18-00 Arsenal 1 - 5 Bayern/2_720p/\n",
      "challenge_sn_video/europe_uefa-champions-league/2016-2017/2017-02-15 - 18-00 Bayern 5 - 1 Arsenal/1_720p/\n",
      "challenge_sn_video/europe_uefa-champions-league/2016-2017/2017-02-15 - 18-00 Bayern 5 - 1 Arsenal/2_720p/\n",
      "challenge_sn_video/europe_uefa-champions-league/2016-2017/2016-12-06 - 18-00 Basel 1 - 4 Arsenal/1_720p/\n",
      "challenge_sn_video/europe_uefa-champions-league/2016-2017/2016-12-06 - 18-00 Basel 1 - 4 Arsenal/2_720p/\n",
      "challenge_sn_video/europe_uefa-champions-league/2016-2017/2016-11-06 - 18-00 Ludogorets Razgrad 2 - 3 Arsenal/1_720p/\n",
      "challenge_sn_video/europe_uefa-champions-league/2016-2017/2016-11-06 - 18-00 Ludogorets Razgrad 2 - 3 Arsenal/2_720p/\n",
      "challenge_sn_video/europe_uefa-champions-league/2016-2017/2016-09-26 - 18-00 Arsenal 2 - 0 Basel/1_720p/\n",
      "challenge_sn_video/europe_uefa-champions-league/2016-2017/2016-09-26 - 18-00 Arsenal 2 - 0 Basel/2_720p/\n",
      "challenge_sn_video/france_ligue-1/2016-2017/2017-02-24 - 18-00 Nice 2 - 1 Montpellier/1_720p/\n",
      "challenge_sn_video/france_ligue-1/2016-2017/2017-02-24 - 18-00 Nice 2 - 1 Montpellier/2_720p/\n",
      "challenge_sn_video/france_ligue-1/2016-2017/2016-09-11 - 18-00 Nice 3 - 2 Marseille/1_720p/\n",
      "challenge_sn_video/france_ligue-1/2016-2017/2016-09-11 - 18-00 Nice 3 - 2 Marseille/2_720p/\n",
      "challenge_sn_video/france_ligue-1/2016-2017/2017-04-02 - 18-00 Nice 2 - 1 Bordeaux/1_720p/\n",
      "challenge_sn_video/france_ligue-1/2016-2017/2017-04-02 - 18-00 Nice 2 - 1 Bordeaux/2_720p/\n",
      "challenge_sn_video/france_ligue-1/2016-2017/2017-05-07 - 18-00 Marseille 2 - 1 Nice/1_720p/\n",
      "challenge_sn_video/france_ligue-1/2016-2017/2017-05-07 - 18-00 Marseille 2 - 1 Nice/2_720p/\n",
      "challenge_sn_video/france_ligue-1/2016-2017/2017-02-18 - 18-00 Lorient 0 - 1 Nice/1_720p/\n",
      "challenge_sn_video/france_ligue-1/2016-2017/2017-02-18 - 18-00 Lorient 0 - 1 Nice/2_720p/\n",
      "challenge_sn_video/france_ligue-1/2016-2017/2017-02-08 - 18-00 Nice 1 - 0 Saint Etienne/1_720p/\n",
      "challenge_sn_video/france_ligue-1/2016-2017/2017-02-08 - 18-00 Nice 1 - 0 Saint Etienne/2_720p/\n",
      "challenge_sn_video/france_ligue-1/2016-2017/2016-12-11 - 18-00 Paris SG 2 - 2 Nice/1_720p/\n",
      "challenge_sn_video/france_ligue-1/2016-2017/2016-12-11 - 18-00 Paris SG 2 - 2 Nice/2_720p/\n",
      "challenge_sn_video/france_ligue-1/2016-2017/2016-12-04 - 18-00 Nice 3 - 0 Toulouse/1_720p/\n",
      "challenge_sn_video/france_ligue-1/2016-2017/2016-12-04 - 18-00 Nice 3 - 0 Toulouse/2_720p/\n",
      "challenge_sn_video/france_ligue-1/2016-2017/2016-11-20 - 18-00 Saint Etienne 0 - 1 Nice/1_720p/\n",
      "challenge_sn_video/france_ligue-1/2016-2017/2016-11-20 - 18-00 Saint Etienne 0 - 1 Nice/2_720p/\n",
      "45920.98991346359\n"
     ]
    }
   ],
   "source": [
    "# Extract features of each image and save in npz format\n",
    "start = time.time()\n",
    "\n",
    "for game in games[:25]:\n",
    "    for i in range(2):\n",
    "        idx = i+1\n",
    "        img_list_path = \"challenge_sn_video/\" + game + \"/\" + str(idx) + \"_720p/\"\n",
    "        print(img_list_path)\n",
    "        imgs = os.listdir(img_list_path)\n",
    "        imgs = [item for item in imgs if \".jpg\" in item]\n",
    "        imgs = natsorted(imgs)\n",
    "        \n",
    "        j = 0 \n",
    "        for img in imgs:\n",
    "            if img == \"CLIP_feats.npz\":\n",
    "                continue\n",
    "            img_path = img_list_path+img\n",
    "            feat = get_embedding(model, img_path)\n",
    "            feat = feat.cpu().detach().numpy()\n",
    "            if j == 0:\n",
    "                features = feat\n",
    "            else:\n",
    "                features = np.vstack((features, feat))\n",
    "            #os.remove(img_path)\n",
    "            j = j+1\n",
    "            \n",
    "        np.savez_compressed(img_list_path+\"CLIP_feats\", features)\n",
    "end = time.time()\n",
    "print(end-start)"
   ]
  }
 ],
 "metadata": {
  "kernelspec": {
   "display_name": "Python 3 (ipykernel)",
   "language": "python",
   "name": "python3"
  },
  "language_info": {
   "codemirror_mode": {
    "name": "ipython",
    "version": 3
   },
   "file_extension": ".py",
   "mimetype": "text/x-python",
   "name": "python",
   "nbconvert_exporter": "python",
   "pygments_lexer": "ipython3",
   "version": "3.8.16"
  }
 },
 "nbformat": 4,
 "nbformat_minor": 5
}
